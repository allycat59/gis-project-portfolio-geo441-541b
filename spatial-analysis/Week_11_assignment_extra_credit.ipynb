{
  "nbformat": 4,
  "nbformat_minor": 0,
  "metadata": {
    "colab": {
      "provenance": [],
      "toc_visible": true,
      "authorship_tag": "ABX9TyOo1kT2M76Q31mcbf0iGmib",
      "include_colab_link": true
    },
    "kernelspec": {
      "name": "python3",
      "display_name": "Python 3"
    },
    "language_info": {
      "name": "python"
    }
  },
  "cells": [
    {
      "cell_type": "markdown",
      "metadata": {
        "id": "view-in-github",
        "colab_type": "text"
      },
      "source": [
        "<a href=\"https://colab.research.google.com/github/allycat59/gis-project-portfolio-geo441-541b/blob/main/spatial-analysis/Week_11_assignment_extra_credit.ipynb\" target=\"_parent\"><img src=\"https://colab.research.google.com/assets/colab-badge.svg\" alt=\"Open In Colab\"/></a>"
      ]
    },
    {
      "cell_type": "markdown",
      "source": [
        "## **GEO 441B/541B Week 11 Assignment: The World in 3D**"
      ],
      "metadata": {
        "id": "SNWn8AFV9039"
      }
    },
    {
      "cell_type": "markdown",
      "source": [
        "🚀 Created by Alina Cherkasskiy\n",
        "\n",
        "11/11/2024"
      ],
      "metadata": {
        "id": "cGzDvxOaNMpS"
      }
    },
    {
      "cell_type": "markdown",
      "source": [
        "**Overview/Key steps**\n",
        "1. Creating a 3D layers:\n",
        "- Gather your building data\n",
        "- Create a project folder for data\n",
        "- Create a local scene and an excretion with maximum height in feet\n",
        "- Use Layer 3D feature class\n",
        "    - Use your current building as input\n",
        "    - Group the field into BLOCK_LOT_BLDG\n",
        "- To edit feature\n",
        "    - Press on the Snapping feature to navigate\n",
        "    - Press modify to modify feature\n",
        "        - Select multi patch texture in reshape tab\n",
        "    - Import facades\n",
        "- Save all layers\n",
        "- Export file and compress to zip\n",
        "---\n",
        "\n",
        "\n"
      ],
      "metadata": {
        "id": "Km0xACCAp_VS"
      }
    },
    {
      "cell_type": "markdown",
      "source": [
        "**Information on historical buildings**\n",
        "\n",
        "\n",
        "| Building,lot and Block number      | Height (ft)  |\n",
        "| ----------------------------- | -------------------------- |\n",
        "| 167-4b     | [61.1]  |\n",
        "| 167-5     | [72.75]    |\n",
        "| 167-6      | [45.34]   |\n",
        "\n",
        "\n",
        "\n"
      ],
      "metadata": {
        "id": "cWWQt-yzrVrw"
      }
    },
    {
      "cell_type": "markdown",
      "source": [
        "![3D features with texture](https://drive.google.com/uc?export=view&id=1GthpXOihgBY5fcg1QtJtON3p7wzJhtHK)\n"
      ],
      "metadata": {
        "id": "QfQzPMuUMJGg"
      }
    }
  ]
}